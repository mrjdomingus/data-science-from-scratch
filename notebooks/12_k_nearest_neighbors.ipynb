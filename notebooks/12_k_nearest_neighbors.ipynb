{
 "cells": [
  {
   "cell_type": "code",
   "execution_count": 5,
   "metadata": {},
   "outputs": [],
   "source": [
    "import sys\n",
    "sys.path.append(\"..\") # Adds higher directory to python modules path."
   ]
  },
  {
   "cell_type": "code",
   "execution_count": 6,
   "metadata": {},
   "outputs": [],
   "source": [
    "from typing import List\n",
    "from collections import Counter"
   ]
  },
  {
   "cell_type": "code",
   "execution_count": 7,
   "metadata": {},
   "outputs": [],
   "source": [
    "def raw_majority_vote(labels: List[str]) -> str:\n",
    "    votes = Counter(labels)\n",
    "    winner, _ = votes.most_common(1)[0]\n",
    "    return winner\n",
    "\n",
    "assert raw_majority_vote(['a', 'b', 'c', 'b']) == 'b'"
   ]
  },
  {
   "cell_type": "code",
   "execution_count": 8,
   "metadata": {},
   "outputs": [],
   "source": [
    "def majority_vote(labels: List[str]) -> str:\n",
    "    \"\"\"Assumes that labels are ordered from nearest to farthest.\"\"\"\n",
    "    vote_counts = Counter(labels)\n",
    "    winner, winner_count = vote_counts.most_common(1)[0]\n",
    "    num_winners = len([count\n",
    "                       for count in vote_counts.values()\n",
    "                       if count == winner_count])\n",
    "\n",
    "    if num_winners == 1:\n",
    "        return winner                     # unique winner, so return it\n",
    "    else:\n",
    "        return majority_vote(labels[:-1]) # try again without the farthest\n",
    "\n",
    "# Tie, so look at first 4, then 'b'\n",
    "assert majority_vote(['a', 'b', 'c', 'b', 'a']) == 'b'"
   ]
  },
  {
   "cell_type": "code",
   "execution_count": 9,
   "metadata": {},
   "outputs": [],
   "source": [
    "from typing import NamedTuple\n",
    "from scratch.linear_algebra import Vector, distance"
   ]
  },
  {
   "cell_type": "code",
   "execution_count": 10,
   "metadata": {},
   "outputs": [],
   "source": [
    "class LabeledPoint(NamedTuple):\n",
    "    point: Vector\n",
    "    label: str"
   ]
  },
  {
   "cell_type": "code",
   "execution_count": 11,
   "metadata": {},
   "outputs": [],
   "source": [
    "def knn_classify(k: int,\n",
    "                 labeled_points: List[LabeledPoint],\n",
    "                 new_point: Vector) -> str:\n",
    "\n",
    "    # Order the labeled points from nearest to farthest.\n",
    "    by_distance = sorted(labeled_points,\n",
    "                         key=lambda lp: distance(lp.point, new_point))\n",
    "\n",
    "    # Find the labels for the k closest\n",
    "    k_nearest_labels = [lp.label for lp in by_distance[:k]]\n",
    "\n",
    "    # and let them vote.\n",
    "    return majority_vote(k_nearest_labels)"
   ]
  },
  {
   "cell_type": "code",
   "execution_count": 12,
   "metadata": {},
   "outputs": [],
   "source": [
    "import random"
   ]
  },
  {
   "cell_type": "code",
   "execution_count": 13,
   "metadata": {},
   "outputs": [],
   "source": [
    "def random_point(dim: int) -> Vector:\n",
    "    return [random.random() for _ in range(dim)]"
   ]
  },
  {
   "cell_type": "code",
   "execution_count": 14,
   "metadata": {},
   "outputs": [],
   "source": [
    "def random_distances(dim: int, num_pairs: int) -> List[float]:\n",
    "    return [distance(random_point(dim), random_point(dim))\n",
    "            for _ in range(num_pairs)]"
   ]
  },
  {
   "cell_type": "code",
   "execution_count": null,
   "metadata": {},
   "outputs": [],
   "source": [
    "def main():\n",
    "    from typing import Dict\n",
    "    import csv\n",
    "    from collections import defaultdict\n",
    "    \n",
    "    def parse_iris_row(row: List[str]) -> LabeledPoint:\n",
    "        \"\"\"\n",
    "        sepal_length, sepal_width, petal_length, petal_width, class\n",
    "        \"\"\"\n",
    "        measurements = [float(value) for value in row[:-1]]\n",
    "        # class is e.g. \"Iris-virginica\"; we just want \"virginica\"\n",
    "        label = row[-1].split(\"-\")[-1]\n",
    "    \n",
    "        return LabeledPoint(measurements, label)\n",
    "    \n",
    "    with open('iris.data') as f:\n",
    "        reader = csv.reader(f)\n",
    "        iris_data = [parse_iris_row(row) for row in reader]\n",
    "    \n",
    "    # We'll also group just the points by species/label so we can plot them.\n",
    "    points_by_species: Dict[str, List[Vector]] = defaultdict(list)\n",
    "    for iris in iris_data:\n",
    "        points_by_species[iris.label].append(iris.point)\n",
    "    \n",
    "    from matplotlib import pyplot as plt\n",
    "    metrics = ['sepal length', 'sepal width', 'petal length', 'petal width']\n",
    "    pairs = [(i, j) for i in range(4) for j in range(4) if i < j]\n",
    "    marks = ['+', '.', 'x']  # we have 3 classes, so 3 markers\n",
    "    \n",
    "    fig, ax = plt.subplots(2, 3)\n",
    "    \n",
    "    for row in range(2):\n",
    "        for col in range(3):\n",
    "            i, j = pairs[3 * row + col]\n",
    "            ax[row][col].set_title(f\"{metrics[i]} vs {metrics[j]}\", fontsize=8)\n",
    "            ax[row][col].set_xticks([])\n",
    "            ax[row][col].set_yticks([])\n",
    "    \n",
    "            for mark, (species, points) in zip(marks, points_by_species.items()):\n",
    "                xs = [point[i] for point in points]\n",
    "                ys = [point[j] for point in points]\n",
    "                ax[row][col].scatter(xs, ys, marker=mark, label=species)\n",
    "    \n",
    "    ax[-1][-1].legend(loc='lower right', prop={'size': 6})\n",
    "    plt.show()\n",
    "        \n",
    "#     plt.savefig('im/iris_scatter.png')\n",
    "#     plt.gca().clear()\n",
    "    \n",
    "    import random\n",
    "    from scratch.machine_learning import split_data\n",
    "    \n",
    "    random.seed(12)\n",
    "    iris_train, iris_test = split_data(iris_data, 0.70)\n",
    "    assert len(iris_train) == 0.7 * 150\n",
    "    assert len(iris_test) == 0.3 * 150\n",
    "    \n",
    "    from typing import Tuple\n",
    "    \n",
    "    # track how many times we see (predicted, actual)\n",
    "    confusion_matrix: Dict[Tuple[str, str], int] = defaultdict(int)\n",
    "    num_correct = 0\n",
    "    \n",
    "    for iris in iris_test:\n",
    "        predicted = knn_classify(5, iris_train, iris.point)\n",
    "        actual = iris.label\n",
    "    \n",
    "        if predicted == actual:\n",
    "            num_correct += 1\n",
    "    \n",
    "        confusion_matrix[(predicted, actual)] += 1\n",
    "    \n",
    "    pct_correct = num_correct / len(iris_test)\n",
    "    print(pct_correct, confusion_matrix)\n",
    "    \n",
    "    import tqdm\n",
    "    dimensions = range(1, 101)\n",
    "    \n",
    "    avg_distances = []\n",
    "    min_distances = []\n",
    "    \n",
    "    random.seed(0)\n",
    "    for dim in tqdm.tqdm(dimensions, desc=\"Curse of Dimensionality\"):\n",
    "        distances = random_distances(dim, 10000)      # 10,000 random pairs\n",
    "        avg_distances.append(sum(distances) / 10000)  # track the average\n",
    "        min_distances.append(min(distances))          # track the minimum\n",
    "    \n",
    "    min_avg_ratio = [min_dist / avg_dist\n",
    "                     for min_dist, avg_dist in zip(min_distances, avg_distances)]\n",
    "    \n",
    "if __name__ == \"__main__\": main()"
   ]
  },
  {
   "cell_type": "code",
   "execution_count": null,
   "metadata": {},
   "outputs": [],
   "source": []
  }
 ],
 "metadata": {
  "kernelspec": {
   "display_name": "Python 3",
   "language": "python",
   "name": "python3"
  },
  "language_info": {
   "codemirror_mode": {
    "name": "ipython",
    "version": 3
   },
   "file_extension": ".py",
   "mimetype": "text/x-python",
   "name": "python",
   "nbconvert_exporter": "python",
   "pygments_lexer": "ipython3",
   "version": "3.6.8"
  }
 },
 "nbformat": 4,
 "nbformat_minor": 2
}
